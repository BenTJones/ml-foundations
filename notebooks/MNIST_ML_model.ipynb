{
 "cells": [
  {
   "cell_type": "markdown",
   "id": "925fd810",
   "metadata": {},
   "source": [
    "0. Imports and Random Seed setting"
   ]
  },
  {
   "cell_type": "code",
   "execution_count": 1,
   "id": "3c77578a",
   "metadata": {},
   "outputs": [
    {
     "data": {
      "text/plain": [
       "<torch._C.Generator at 0x20af0597010>"
      ]
     },
     "execution_count": 1,
     "metadata": {},
     "output_type": "execute_result"
    }
   ],
   "source": [
    "import torch\n",
    "import torchvision\n",
    "import numpy as np\n",
    "\n",
    "torch.manual_seed(42)"
   ]
  },
  {
   "cell_type": "markdown",
   "id": "d434405f",
   "metadata": {},
   "source": [
    "1. Data Loading and Preperation"
   ]
  },
  {
   "cell_type": "code",
   "execution_count": 9,
   "id": "95b689be",
   "metadata": {},
   "outputs": [],
   "source": [
    "train_data = torchvision.datasets.MNIST(root = '../data',train = True,download= True)\n",
    "test_data = torchvision.datasets.MNIST(root = '../data',train = False,download=True)\n",
    "#Has been ran once to obtain and store data, now download paramter has been changed to False\n",
    "\n",
    "x_train = train_data.data.float() / 255 #Normalising Greyscale Image Pixel Intesity\n",
    "y_train = train_data.targets\n",
    "\n",
    "x_test = test_data.data.float() / 255\n",
    "y_test = test_data.targets\n",
    "\n",
    "x_train = x_train.view(-1,28*28)\n",
    "x_test = x_test.view(-1,28*28)  #Flattens the images to 2d, could use -1 or 60_000 and 10_000\n",
    "\n",
    "def one_hot(labels,num_classes = 10):\n",
    "    output = torch.zeros(labels.size(0),num_classes)\n",
    "    row = torch.arange(labels.size(0))\n",
    "    output[row,labels] = 1.0\n",
    "    return output\n",
    "#One hot encode label data so it can be usefully analysed\n",
    "\n",
    "y_test_oh = one_hot(y_test,10)\n",
    "y_train_oh = one_hot(y_train,10)\n",
    "\n",
    "def get_batches(x,y,batch_size = 64):\n",
    "    idx = torch.randperm(x.size(0))\n",
    "    batches = torch.tensor()\n",
    "    for i in range(0,x.size(0),batch_size):\n",
    "        batches_idx = idx[i,i+batch_size]\n",
    "        yield x[batches_idx],y[batches_idx]\n",
    "        \n",
    "        "
   ]
  },
  {
   "cell_type": "markdown",
   "id": "a7be31c6",
   "metadata": {},
   "source": [
    "2. Building and Training MLP without High Level help"
   ]
  },
  {
   "cell_type": "code",
   "execution_count": null,
   "id": "6653fc93",
   "metadata": {},
   "outputs": [],
   "source": [
    "w1 = torch.randn(size = [28*28,64],requires_grad= True)\n",
    "w2 = torch.randn(size = [64,10],requires_grad= True)\n",
    "b1 = torch.randn(size = 64,requires_grad= True)\n",
    "b2 = torch.randn(size = 10,requires_grad= True)\n",
    "\n",
    "for x,y in get_batches(x_train,y_train_oh):\n",
    "    z1 = x @ w1 + b1\n",
    "    relu = torch.maximum(z1,torch.zeros_like(z1))\n",
    "    z2 = relu @ w2 + b2\n",
    "    probs = torch.softmax(z2,dim = 1)\n",
    "    shift = 1e-10 #Prevent taking log of 0 choose small shift to minimally effect results\n",
    "    class_probs = torch.sum(probs * y,dim= 1)\n",
    "    cross_entropy = -torch.log(class_probs + shift)\n",
    "    loss = cross_entropy.mean()\n",
    "    loss.backward()\n",
    "    learning_rate = 0.01 \n",
    "    with torch.no_grad():\n",
    "        w1 = w1 - learning_rate * w1.grad\n",
    "        w2 = w2 - learning_rate * w2.grad\n",
    "        b1 = b1 - learning_rate * b1.grad\n",
    "        b2 = b2 - learning_rate * b2.grad\n",
    "    \n",
    "    w1.grad.zero_()\n",
    "    w2.grad.zero_()\n",
    "    b1.grad.zero_()\n",
    "    b2.grad.zero_()\n",
    "    \n",
    "    "
   ]
  }
 ],
 "metadata": {
  "kernelspec": {
   "display_name": "venv (3.12.7)",
   "language": "python",
   "name": "python3"
  },
  "language_info": {
   "codemirror_mode": {
    "name": "ipython",
    "version": 3
   },
   "file_extension": ".py",
   "mimetype": "text/x-python",
   "name": "python",
   "nbconvert_exporter": "python",
   "pygments_lexer": "ipython3",
   "version": "3.12.7"
  }
 },
 "nbformat": 4,
 "nbformat_minor": 5
}
