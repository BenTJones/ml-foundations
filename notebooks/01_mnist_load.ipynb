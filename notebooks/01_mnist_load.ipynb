{
 "cells": [
  {
   "cell_type": "markdown",
   "id": "925fd810",
   "metadata": {},
   "source": [
    "0. Imports"
   ]
  },
  {
   "cell_type": "code",
   "execution_count": 1,
   "id": "3c77578a",
   "metadata": {},
   "outputs": [],
   "source": [
    "import torch\n",
    "from torchvision import datasets,transforms\n",
    "import matplotlib.pyplot as plt"
   ]
  },
  {
   "cell_type": "markdown",
   "id": "d434405f",
   "metadata": {},
   "source": [
    "1. Data Loading and Preperation"
   ]
  }
 ],
 "metadata": {
  "kernelspec": {
   "display_name": ".venv (3.12.7)",
   "language": "python",
   "name": "python3"
  },
  "language_info": {
   "codemirror_mode": {
    "name": "ipython",
    "version": 3
   },
   "file_extension": ".py",
   "mimetype": "text/x-python",
   "name": "python",
   "nbconvert_exporter": "python",
   "pygments_lexer": "ipython3",
   "version": "3.12.7"
  }
 },
 "nbformat": 4,
 "nbformat_minor": 5
}
